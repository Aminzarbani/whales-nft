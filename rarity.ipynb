{
 "cells": [
  {
   "cell_type": "code",
   "execution_count": 1,
   "id": "815f4e4a",
   "metadata": {},
   "outputs": [],
   "source": [
    "import numpy as np"
   ]
  },
  {
   "cell_type": "code",
   "execution_count": 2,
   "id": "3b90d561",
   "metadata": {},
   "outputs": [],
   "source": [
    "import pandas as pd"
   ]
  },
  {
   "cell_type": "code",
   "execution_count": 3,
   "id": "c94a6381",
   "metadata": {},
   "outputs": [],
   "source": [
    "data = pd.read_json(\"attributes.json\", lines=True)\n",
    "common = data[data['Tier'] == 'Common']"
   ]
  },
  {
   "cell_type": "code",
   "execution_count": 4,
   "id": "00f01dea",
   "metadata": {},
   "outputs": [
    {
     "data": {
      "text/plain": [
       "bg_3     0.082667\n",
       "bg_2     0.081333\n",
       "bg_16    0.066667\n",
       "bg_17    0.066667\n",
       "bg_19    0.065333\n",
       "bg_12    0.062667\n",
       "bg_6     0.062667\n",
       "bg_5     0.061333\n",
       "bg_9     0.058667\n",
       "bg_8     0.057333\n",
       "bg_1     0.053333\n",
       "bg_14    0.049333\n",
       "bg_13    0.041333\n",
       "bg_11    0.040000\n",
       "bg_10    0.038667\n",
       "bg_7     0.038667\n",
       "bg_15    0.037333\n",
       "bg_18    0.036000\n",
       "Name: Background, dtype: float64"
      ]
     },
     "execution_count": 4,
     "metadata": {},
     "output_type": "execute_result"
    }
   ],
   "source": [
    "common['Background'].value_counts(normalize=True)"
   ]
  },
  {
   "cell_type": "code",
   "execution_count": 5,
   "id": "378ffc60",
   "metadata": {},
   "outputs": [
    {
     "data": {
      "text/plain": [
       "body_belly_3    0.197333\n",
       "body_belly_6    0.168000\n",
       "body_belly_2    0.164000\n",
       "body_belly_5    0.162667\n",
       "body_belly_4    0.154667\n",
       "body_belly_1    0.153333\n",
       "Name: Belly, dtype: float64"
      ]
     },
     "execution_count": 5,
     "metadata": {},
     "output_type": "execute_result"
    }
   ],
   "source": [
    "common['Belly'].value_counts(normalize=True)"
   ]
  },
  {
   "cell_type": "code",
   "execution_count": 6,
   "id": "aefc1e97",
   "metadata": {},
   "outputs": [
    {
     "data": {
      "text/plain": [
       "body_back_6    0.161333\n",
       "body_back_3    0.142667\n",
       "body_back_1    0.137333\n",
       "body_back_9    0.120000\n",
       "body_back_7    0.120000\n",
       "body_back_8    0.110667\n",
       "body_back_2    0.108000\n",
       "body_back_5    0.100000\n",
       "Name: Back, dtype: float64"
      ]
     },
     "execution_count": 6,
     "metadata": {},
     "output_type": "execute_result"
    }
   ],
   "source": [
    "common['Back'].value_counts(normalize=True)"
   ]
  },
  {
   "cell_type": "code",
   "execution_count": 7,
   "id": "60d67c1b",
   "metadata": {},
   "outputs": [
    {
     "data": {
      "text/plain": [
       "eye_1    0.212000\n",
       "eye_3    0.201333\n",
       "eye_2    0.200000\n",
       "eye_6    0.184000\n",
       "eye_5    0.108000\n",
       "eye_7    0.094667\n",
       "Name: Eye, dtype: float64"
      ]
     },
     "execution_count": 7,
     "metadata": {},
     "output_type": "execute_result"
    }
   ],
   "source": [
    "common['Eye'].value_counts(normalize=True)"
   ]
  },
  {
   "cell_type": "code",
   "execution_count": 8,
   "id": "3980579c",
   "metadata": {},
   "outputs": [
    {
     "data": {
      "text/plain": [
       "none    0.509333\n",
       "15      0.037333\n",
       "6       0.034667\n",
       "2       0.034667\n",
       "19      0.030667\n",
       "16      0.029333\n",
       "8       0.028000\n",
       "13      0.028000\n",
       "18      0.026667\n",
       "9       0.025333\n",
       "5       0.024000\n",
       "17      0.024000\n",
       "1       0.022667\n",
       "12      0.022667\n",
       "7       0.022667\n",
       "10      0.022667\n",
       "4       0.020000\n",
       "14      0.020000\n",
       "11      0.020000\n",
       "3       0.017333\n",
       "Name: Neck, dtype: float64"
      ]
     },
     "execution_count": 8,
     "metadata": {},
     "output_type": "execute_result"
    }
   ],
   "source": [
    "common['Neck'].value_counts(normalize=True)"
   ]
  },
  {
   "cell_type": "code",
   "execution_count": 9,
   "id": "d55ff69e",
   "metadata": {},
   "outputs": [
    {
     "data": {
      "text/plain": [
       "none    0.389333\n",
       "4       0.145333\n",
       "2       0.125333\n",
       "5       0.117333\n",
       "3       0.112000\n",
       "1       0.110667\n",
       "Name: Tooth, dtype: float64"
      ]
     },
     "execution_count": 9,
     "metadata": {},
     "output_type": "execute_result"
    }
   ],
   "source": [
    "common['Tooth'].value_counts(normalize=True)"
   ]
  },
  {
   "cell_type": "code",
   "execution_count": 10,
   "id": "c1731cba",
   "metadata": {},
   "outputs": [
    {
     "data": {
      "text/plain": [
       "none            0.638667\n",
       "pirat           0.081333\n",
       "star            0.073333\n",
       "monocle_blue    0.072000\n",
       "monocle_gold    0.072000\n",
       "mask_red        0.062667\n",
       "Name: Glasses, dtype: float64"
      ]
     },
     "execution_count": 10,
     "metadata": {},
     "output_type": "execute_result"
    }
   ],
   "source": [
    "common['Glasses'].value_counts(normalize=True)"
   ]
  },
  {
   "cell_type": "code",
   "execution_count": 11,
   "id": "e7ac7ebf",
   "metadata": {},
   "outputs": [
    {
     "data": {
      "text/plain": [
       "none    0.656000\n",
       "10      0.034667\n",
       "13      0.032000\n",
       "9       0.029333\n",
       "11      0.029333\n",
       "7       0.026667\n",
       "14      0.025333\n",
       "6       0.024000\n",
       "3       0.024000\n",
       "1       0.022667\n",
       "5       0.022667\n",
       "12      0.022667\n",
       "8       0.018667\n",
       "4       0.016000\n",
       "2       0.016000\n",
       "Name: Tale, dtype: float64"
      ]
     },
     "execution_count": 11,
     "metadata": {},
     "output_type": "execute_result"
    }
   ],
   "source": [
    "common['Tale'].value_counts(normalize=True)"
   ]
  },
  {
   "cell_type": "code",
   "execution_count": 12,
   "id": "e0b7b863",
   "metadata": {},
   "outputs": [
    {
     "data": {
      "text/plain": [
       "none    0.898667\n",
       "9       0.008000\n",
       "8       0.008000\n",
       "16      0.006667\n",
       "2       0.006667\n",
       "cat     0.006667\n",
       "15      0.006667\n",
       "11      0.006667\n",
       "13      0.006667\n",
       "1       0.006667\n",
       "12      0.006667\n",
       "4       0.005333\n",
       "14      0.005333\n",
       "3       0.004000\n",
       "dog     0.004000\n",
       "5       0.004000\n",
       "7       0.004000\n",
       "6       0.004000\n",
       "10      0.001333\n",
       "Name: Hand, dtype: float64"
      ]
     },
     "execution_count": 12,
     "metadata": {},
     "output_type": "execute_result"
    }
   ],
   "source": [
    "common['Hand'].value_counts(normalize=True)"
   ]
  },
  {
   "cell_type": "code",
   "execution_count": 13,
   "id": "4a7cf0ad",
   "metadata": {},
   "outputs": [
    {
     "data": {
      "text/plain": [
       "none    0.352000\n",
       "10      0.044000\n",
       "19      0.034667\n",
       "7       0.034667\n",
       "16      0.034667\n",
       "9       0.034667\n",
       "23      0.034667\n",
       "2       0.032000\n",
       "17      0.032000\n",
       "5       0.029333\n",
       "18      0.029333\n",
       "8       0.029333\n",
       "25      0.026667\n",
       "22      0.026667\n",
       "14      0.025333\n",
       "24      0.024000\n",
       "3       0.024000\n",
       "1       0.024000\n",
       "13      0.022667\n",
       "20      0.021333\n",
       "21      0.017333\n",
       "12      0.017333\n",
       "6       0.016000\n",
       "11      0.013333\n",
       "15      0.010667\n",
       "4       0.009333\n",
       "Name: Hat, dtype: float64"
      ]
     },
     "execution_count": 13,
     "metadata": {},
     "output_type": "execute_result"
    }
   ],
   "source": [
    "common['Hat'].value_counts(normalize=True)"
   ]
  },
  {
   "cell_type": "code",
   "execution_count": 14,
   "id": "79351ae9",
   "metadata": {},
   "outputs": [
    {
     "data": {
      "text/plain": [
       "none            0.918667\n",
       "bubblegum       0.017333\n",
       "fun             0.014667\n",
       "tobacco_pipe    0.013333\n",
       "mustache        0.012000\n",
       "cigarette       0.008000\n",
       "joint           0.008000\n",
       "cigar           0.006667\n",
       "schnorchel      0.001333\n",
       "Name: Habit, dtype: float64"
      ]
     },
     "execution_count": 14,
     "metadata": {},
     "output_type": "execute_result"
    }
   ],
   "source": [
    "common['Habit'].value_counts(normalize=True)"
   ]
  },
  {
   "cell_type": "code",
   "execution_count": 15,
   "id": "b9ee571d",
   "metadata": {},
   "outputs": [
    {
     "data": {
      "text/plain": [
       "none    0.965333\n",
       "in      0.005333\n",
       "en      0.004000\n",
       "it      0.004000\n",
       "ca      0.002667\n",
       "ua      0.002667\n",
       "ko      0.002667\n",
       "usa     0.002667\n",
       "gay     0.001333\n",
       "uae     0.001333\n",
       "cn      0.001333\n",
       "ja      0.001333\n",
       "da      0.001333\n",
       "au      0.001333\n",
       "fr      0.001333\n",
       "ge      0.001333\n",
       "Name: Flag, dtype: float64"
      ]
     },
     "execution_count": 15,
     "metadata": {},
     "output_type": "execute_result"
    }
   ],
   "source": [
    "common['Flag'].value_counts(normalize=True)"
   ]
  }
 ],
 "metadata": {
  "kernelspec": {
   "display_name": "Python 3 (ipykernel)",
   "language": "python",
   "name": "python3"
  },
  "language_info": {
   "codemirror_mode": {
    "name": "ipython",
    "version": 3
   },
   "file_extension": ".py",
   "mimetype": "text/x-python",
   "name": "python",
   "nbconvert_exporter": "python",
   "pygments_lexer": "ipython3",
   "version": "3.9.12"
  }
 },
 "nbformat": 4,
 "nbformat_minor": 5
}
